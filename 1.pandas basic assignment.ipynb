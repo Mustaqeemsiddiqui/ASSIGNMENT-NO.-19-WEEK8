{
 "cells": [
  {
   "cell_type": "markdown",
   "id": "43243149-0b0d-4c95-826a-da730f82bf93",
   "metadata": {},
   "source": [
    "Q1. Create a Pandas Series that contains the following data: 4, 8, 15, 16, 23, and 42. Then, print the series."
   ]
  },
  {
   "cell_type": "code",
   "execution_count": 1,
   "id": "6a8f6458-fbbe-42c0-88d8-7fb6ae5c3c5f",
   "metadata": {},
   "outputs": [
    {
     "name": "stdout",
     "output_type": "stream",
     "text": [
      "0     4\n",
      "1     8\n",
      "2    15\n",
      "3    16\n",
      "4    23\n",
      "5    42\n",
      "dtype: int64\n"
     ]
    }
   ],
   "source": [
    "import pandas as pd\n",
    "\n",
    "d = [4, 8, 15, 16, 23, 42]\n",
    "series = pd.Series(d)\n",
    "\n",
    "print(series)\n"
   ]
  },
  {
   "cell_type": "markdown",
   "id": "abade346-f5e9-428f-a97a-3705e6342585",
   "metadata": {},
   "source": [
    "Q2. Create a variable of list type containing 10 elements in it, and apply pandas.Series function on the\n",
    "variable print it."
   ]
  },
  {
   "cell_type": "code",
   "execution_count": 3,
   "id": "887a32c9-fa2e-43e0-822f-7a2ea8888cf6",
   "metadata": {},
   "outputs": [
    {
     "name": "stdout",
     "output_type": "stream",
     "text": [
      "0     1\n",
      "1     3\n",
      "2     5\n",
      "3     7\n",
      "4    11\n",
      "5    13\n",
      "6    17\n",
      "7    19\n",
      "8    23\n",
      "9    29\n",
      "dtype: int64\n"
     ]
    }
   ],
   "source": [
    "data_prime_list=[1,3,5,7,11,13,17,19,23,29]\n",
    "series_from_list=pd.Series(data_prime_list)\n",
    "print(series_from_list)"
   ]
  },
  {
   "cell_type": "markdown",
   "id": "ce5bc007-9e81-4390-a1ab-798c44bd6f7c",
   "metadata": {},
   "source": [
    "Q3. Create a Pandas DataFrame that contains the following data:\n",
    "Name\n",
    "Alice\n",
    "Bob\n",
    "Claire\n",
    "\n",
    "Age\n",
    "25\n",
    "30\n",
    "27\n",
    "\n",
    "Gender\n",
    "Female\n",
    "Male\n",
    "Female\n",
    "Then, print the DataFrame.\n"
   ]
  },
  {
   "cell_type": "code",
   "execution_count": 4,
   "id": "6f267b4a-44af-46f4-8c88-c6684f98defb",
   "metadata": {},
   "outputs": [],
   "source": [
    "data ={\"Name\":[\"Alice\",\"Bob\",\"Claire\"],\n",
    "       \"Age\":[25,30,27],\n",
    "       \"Gender\":[\"Female\",\"Male\",\"Female\"]}"
   ]
  },
  {
   "cell_type": "code",
   "execution_count": 5,
   "id": "da8b5fdb-4a50-4ed5-a787-0c0d33cb6fbe",
   "metadata": {},
   "outputs": [],
   "source": [
    "df=pd.DataFrame(data)"
   ]
  },
  {
   "cell_type": "code",
   "execution_count": 6,
   "id": "f092618a-3c14-42a6-a338-d983a4fe7765",
   "metadata": {},
   "outputs": [
    {
     "name": "stdout",
     "output_type": "stream",
     "text": [
      "     Name  Age  Gender\n",
      "0   Alice   25  Female\n",
      "1     Bob   30    Male\n",
      "2  Claire   27  Female\n"
     ]
    }
   ],
   "source": [
    "print(df)"
   ]
  },
  {
   "cell_type": "code",
   "execution_count": 9,
   "id": "3d40a166-e342-45d8-9d7a-194a230f7663",
   "metadata": {},
   "outputs": [
    {
     "data": {
      "text/html": [
       "<div>\n",
       "<style scoped>\n",
       "    .dataframe tbody tr th:only-of-type {\n",
       "        vertical-align: middle;\n",
       "    }\n",
       "\n",
       "    .dataframe tbody tr th {\n",
       "        vertical-align: top;\n",
       "    }\n",
       "\n",
       "    .dataframe thead th {\n",
       "        text-align: right;\n",
       "    }\n",
       "</style>\n",
       "<table border=\"1\" class=\"dataframe\">\n",
       "  <thead>\n",
       "    <tr style=\"text-align: right;\">\n",
       "      <th></th>\n",
       "      <th>Name</th>\n",
       "      <th>Age</th>\n",
       "      <th>Gender</th>\n",
       "    </tr>\n",
       "  </thead>\n",
       "  <tbody>\n",
       "    <tr>\n",
       "      <th>0</th>\n",
       "      <td>Alice</td>\n",
       "      <td>25</td>\n",
       "      <td>Female</td>\n",
       "    </tr>\n",
       "    <tr>\n",
       "      <th>1</th>\n",
       "      <td>Bob</td>\n",
       "      <td>30</td>\n",
       "      <td>Male</td>\n",
       "    </tr>\n",
       "    <tr>\n",
       "      <th>2</th>\n",
       "      <td>Claire</td>\n",
       "      <td>27</td>\n",
       "      <td>Female</td>\n",
       "    </tr>\n",
       "  </tbody>\n",
       "</table>\n",
       "</div>"
      ],
      "text/plain": [
       "     Name  Age  Gender\n",
       "0   Alice   25  Female\n",
       "1     Bob   30    Male\n",
       "2  Claire   27  Female"
      ]
     },
     "execution_count": 9,
     "metadata": {},
     "output_type": "execute_result"
    }
   ],
   "source": [
    "df[[\"Name\",  \"Age\", \"Gender\"]]"
   ]
  },
  {
   "cell_type": "markdown",
   "id": "99263411-4f4a-473c-a303-d8a0f1a3ba04",
   "metadata": {},
   "source": [
    "Q4. What is ‘DataFrame’ in pandas and how is it different from pandas.series? Explain with an example."
   ]
  },
  {
   "cell_type": "markdown",
   "id": "3ee95f64-099e-4c0c-b997-79ef147cb2b0",
   "metadata": {},
   "source": [
    "**ANSWER**:--\n",
    "\n",
    "1)A DataFrame in pandas is a two-dimensional, size-mutable, and potentially heterogeneous tabular data structure with labeled axes (rows and columns). \n",
    "\n",
    "2)A DataFrame is one of the most widely used data structures in pandas and allows you to store and manipulate data in a flexible and powerful way.\n",
    "\n",
    "3)a Series in pandas is a one-dimensional array-like object containing a sequence of values (similar to a column in a table), with associated labels (index).\n",
    "\n",
    "4)**Differences**\n",
    "\n",
    "1. **Dimensionality:**\n",
    "   - `Series` is one-dimensional.\n",
    "   - `DataFrame` is two-dimensional.\n",
    "\n",
    "2. **Structure:**\n",
    "   - A `Series` can be thought of as a single column of data.\n",
    "   - A `DataFrame` is a collection of `Series` that share the same index.\n",
    "\n",
    "3. **Usage:**\n",
    "   - `Series` is used for simple, one-dimensional data operations.\n",
    "   - `DataFrame` is used for more complex data manipulation and analysis.\n",
    "\n"
   ]
  },
  {
   "cell_type": "code",
   "execution_count": 10,
   "id": "677b7972-9cd7-4925-bc68-75f2976c26da",
   "metadata": {},
   "outputs": [
    {
     "name": "stdout",
     "output_type": "stream",
     "text": [
      "0     4\n",
      "1     8\n",
      "2    15\n",
      "3    16\n",
      "4    23\n",
      "5    42\n",
      "Name: Numbers, dtype: int64\n"
     ]
    }
   ],
   "source": [
    "# Create a Series\n",
    "series = pd.Series([4, 8, 15, 16, 23, 42], name=\"Numbers\")\n",
    "\n",
    "print(series)\n"
   ]
  },
  {
   "cell_type": "code",
   "execution_count": 11,
   "id": "02997c61-6e62-4dc8-a889-e85c41cc6aab",
   "metadata": {},
   "outputs": [
    {
     "name": "stdout",
     "output_type": "stream",
     "text": [
      "     Name  Age  Gender\n",
      "0   Alice   25  Female\n",
      "1     Bob   30    Male\n",
      "2  Claire   27  Female\n"
     ]
    }
   ],
   "source": [
    "# Create a DataFrame\n",
    "data1 = {\n",
    "    'Name': ['Alice', 'Bob', 'Claire'],\n",
    "    'Age': [25, 30, 27],\n",
    "    'Gender': ['Female', 'Male', 'Female']\n",
    "}\n",
    "\n",
    "df1 = pd.DataFrame(data1)\n",
    "\n",
    "print(df1)"
   ]
  },
  {
   "cell_type": "markdown",
   "id": "613ff6e4-b314-4635-855f-d0b68d804d81",
   "metadata": {},
   "source": [
    "4)**Explanation**:\n",
    "\n",
    "- The `Series` example shows a single column of numbers with an index.\n",
    "- The `DataFrame` example shows a table with three columns: `Name`, `Age`, and `Gender`. Each column is a `Series`, and together they form the `DataFrame`.\n",
    "\n"
   ]
  },
  {
   "cell_type": "markdown",
   "id": "342edc03-4332-40ca-98fb-66655d459c18",
   "metadata": {},
   "source": [
    "Q5. What are some common functions you can use to manipulate data in a Pandas DataFrame? Can\n",
    "you give an example of when you might use one of these functions?"
   ]
  },
  {
   "cell_type": "code",
   "execution_count": null,
   "id": "a557e063-9330-402f-b32b-27507f909bc1",
   "metadata": {},
   "outputs": [],
   "source": [
    "Pandas provides a wide range of functions to manipulate data in a DataFrame. Here are some common ones, along with examples of when you might use them:\n",
    "\n",
    "1. **Head and Tail Functions:**\n",
    "   - `head(n)`: Returns the first `n` rows of the DataFrame.\n",
    "   - `tail(n)`: Returns the last `n` rows of the DataFrame.\n",
    "   - Example: Use `df.head(5)` to quickly view the first 5 rows of your dataset to understand its structure.\n",
    "\n",
    "2. **Descriptive Statistics:**\n",
    "   - `describe()`: Generates descriptive statistics that summarize the central tendency, dispersion, and shape of a dataset’s distribution.\n",
    "   - Example: Use `df.describe()` to get a summary of the numerical columns in your DataFrame.\n",
    "\n",
    "3. **Indexing and Selecting Data:**\n",
    "   - `loc[]`: Access a group of rows and columns by labels or a boolean array.\n",
    "   - `iloc[]`: Access a group of rows and columns by integer position(s).\n",
    "   - Example: Use `df.loc[df['Age'] > 25]` to select all rows where the `Age` column is greater than 25.\n",
    "\n",
    "4. **Sorting Data:**\n",
    "   - `sort_values(by)`: Sorts a DataFrame by the values of one or more columns.\n",
    "   - Example: Use `df.sort_values(by='Age')` to sort the DataFrame by the `Age` column in ascending order.\n",
    "\n",
    "5. **Handling Missing Data:**\n",
    "   - `dropna()`: Removes missing values.\n",
    "   - `fillna()`: Fills missing values with a specified value.\n",
    "   - Example: Use `df.fillna(0)` to replace all missing values in the DataFrame with 0.\n",
    "\n",
    "6. **Data Aggregation and Grouping:**\n",
    "   - `groupby()`: Groups data by a specified column and performs aggregate functions on other columns.\n",
    "   - Example: Use `df.groupby('Gender').mean()` to compute the mean of each numeric column grouped by the `Gender` column.\n",
    "\n",
    "7. **Merging and Joining:**\n",
    "   - `merge()`: Combines DataFrame objects by columns or indexes.\n",
    "   - `join()`: Joins columns of another DataFrame.\n",
    "   - Example: Use `pd.merge(df1, df2, on='key')` to merge two DataFrames `df1` and `df2` on a common column `key`.\n",
    "\n",
    "**example**\n",
    "\n",
    "Suppose you have a DataFrame containing sales data and you want to find out the total sales for each product category. You can use the `groupby()` function to achieve this.\n",
    "\n",
    "In this example, the `groupby()` function is used to group the data by the `Category` column, and the `sum()` function is applied to the `Sales` column to get the total sales for each category. This is useful for summarizing and analyzing sales data by different categories."
   ]
  },
  {
   "cell_type": "code",
   "execution_count": 13,
   "id": "530ab60a-58b3-4958-bd22-549dd7f3a5b2",
   "metadata": {},
   "outputs": [],
   "source": [
    "data2= {\n",
    "    'Product': ['A', 'B', 'A', 'C', 'B', 'A'],\n",
    "    'Category': ['Electronics', 'Furniture', 'Electronics', 'Furniture', 'Furniture', 'Electronics'],\n",
    "    'Sales': [200, 150, 300, 400, 250, 100]\n",
    "}\n",
    "\n",
    "df2 = pd.DataFrame(data2)"
   ]
  },
  {
   "cell_type": "code",
   "execution_count": 14,
   "id": "4e7d8777-78c5-41f9-9403-dcbb95bdd121",
   "metadata": {},
   "outputs": [
    {
     "data": {
      "text/html": [
       "<div>\n",
       "<style scoped>\n",
       "    .dataframe tbody tr th:only-of-type {\n",
       "        vertical-align: middle;\n",
       "    }\n",
       "\n",
       "    .dataframe tbody tr th {\n",
       "        vertical-align: top;\n",
       "    }\n",
       "\n",
       "    .dataframe thead th {\n",
       "        text-align: right;\n",
       "    }\n",
       "</style>\n",
       "<table border=\"1\" class=\"dataframe\">\n",
       "  <thead>\n",
       "    <tr style=\"text-align: right;\">\n",
       "      <th></th>\n",
       "      <th>Product</th>\n",
       "      <th>Category</th>\n",
       "      <th>Sales</th>\n",
       "    </tr>\n",
       "  </thead>\n",
       "  <tbody>\n",
       "    <tr>\n",
       "      <th>0</th>\n",
       "      <td>A</td>\n",
       "      <td>Electronics</td>\n",
       "      <td>200</td>\n",
       "    </tr>\n",
       "    <tr>\n",
       "      <th>1</th>\n",
       "      <td>B</td>\n",
       "      <td>Furniture</td>\n",
       "      <td>150</td>\n",
       "    </tr>\n",
       "    <tr>\n",
       "      <th>2</th>\n",
       "      <td>A</td>\n",
       "      <td>Electronics</td>\n",
       "      <td>300</td>\n",
       "    </tr>\n",
       "    <tr>\n",
       "      <th>3</th>\n",
       "      <td>C</td>\n",
       "      <td>Furniture</td>\n",
       "      <td>400</td>\n",
       "    </tr>\n",
       "    <tr>\n",
       "      <th>4</th>\n",
       "      <td>B</td>\n",
       "      <td>Furniture</td>\n",
       "      <td>250</td>\n",
       "    </tr>\n",
       "    <tr>\n",
       "      <th>5</th>\n",
       "      <td>A</td>\n",
       "      <td>Electronics</td>\n",
       "      <td>100</td>\n",
       "    </tr>\n",
       "  </tbody>\n",
       "</table>\n",
       "</div>"
      ],
      "text/plain": [
       "  Product     Category  Sales\n",
       "0       A  Electronics    200\n",
       "1       B    Furniture    150\n",
       "2       A  Electronics    300\n",
       "3       C    Furniture    400\n",
       "4       B    Furniture    250\n",
       "5       A  Electronics    100"
      ]
     },
     "execution_count": 14,
     "metadata": {},
     "output_type": "execute_result"
    }
   ],
   "source": [
    "df2"
   ]
  },
  {
   "cell_type": "code",
   "execution_count": 16,
   "id": "b352b2e0-3366-485f-8031-811ab4d4b628",
   "metadata": {},
   "outputs": [
    {
     "name": "stdout",
     "output_type": "stream",
     "text": [
      "Category\n",
      "Electronics    600\n",
      "Furniture      800\n",
      "Name: Sales, dtype: int64\n"
     ]
    }
   ],
   "source": [
    "category_sales = df2.groupby('Category')['Sales'].sum()\n",
    "\n",
    "print(category_sales)"
   ]
  },
  {
   "cell_type": "markdown",
   "id": "a8a7323b-9995-4365-94d9-53d1824874cf",
   "metadata": {},
   "source": [
    "Q6. Which of the following is mutable in nature Series, DataFrame, Panel?"
   ]
  },
  {
   "cell_type": "markdown",
   "id": "8ab9b595-c352-4a34-9dca-6694ceccff5e",
   "metadata": {},
   "source": [
    "**ANSWER**:---\n",
    "\n",
    "Both `Series` and `DataFrame` are mutable in nature in pandas. The `Panel` data structure was used for 3-dimensional data but has been deprecated since pandas version 0.25.0."
   ]
  },
  {
   "cell_type": "markdown",
   "id": "3c452bb5-8d18-4e42-9c6c-178a99388aff",
   "metadata": {},
   "source": [
    "Q7. Create a DataFrame using multiple Series. Explain with an example."
   ]
  },
  {
   "cell_type": "code",
   "execution_count": 17,
   "id": "217573d8-ce17-4e77-bf11-de6dc98a9865",
   "metadata": {},
   "outputs": [],
   "source": [
    "name_series = pd.Series(['Alice', 'Bob', 'Claire'])\n",
    "age_series = pd.Series([25, 30, 27])\n",
    "gender_series = pd.Series(['Female', 'Male', 'Female'])\n"
   ]
  },
  {
   "cell_type": "code",
   "execution_count": 18,
   "id": "6fd58b94-16bf-4576-ac03-bef31a04537c",
   "metadata": {},
   "outputs": [],
   "source": [
    "data3 = {\n",
    "    'Name': name_series,\n",
    "    'Age': age_series,\n",
    "    'Gender': gender_series\n",
    "}\n",
    "\n",
    "df3 = pd.DataFrame(data3)"
   ]
  },
  {
   "cell_type": "code",
   "execution_count": 19,
   "id": "2804b099-28a9-4d75-80c0-6a539dbad21f",
   "metadata": {},
   "outputs": [
    {
     "data": {
      "text/html": [
       "<div>\n",
       "<style scoped>\n",
       "    .dataframe tbody tr th:only-of-type {\n",
       "        vertical-align: middle;\n",
       "    }\n",
       "\n",
       "    .dataframe tbody tr th {\n",
       "        vertical-align: top;\n",
       "    }\n",
       "\n",
       "    .dataframe thead th {\n",
       "        text-align: right;\n",
       "    }\n",
       "</style>\n",
       "<table border=\"1\" class=\"dataframe\">\n",
       "  <thead>\n",
       "    <tr style=\"text-align: right;\">\n",
       "      <th></th>\n",
       "      <th>Name</th>\n",
       "      <th>Age</th>\n",
       "      <th>Gender</th>\n",
       "    </tr>\n",
       "  </thead>\n",
       "  <tbody>\n",
       "    <tr>\n",
       "      <th>0</th>\n",
       "      <td>Alice</td>\n",
       "      <td>25</td>\n",
       "      <td>Female</td>\n",
       "    </tr>\n",
       "    <tr>\n",
       "      <th>1</th>\n",
       "      <td>Bob</td>\n",
       "      <td>30</td>\n",
       "      <td>Male</td>\n",
       "    </tr>\n",
       "    <tr>\n",
       "      <th>2</th>\n",
       "      <td>Claire</td>\n",
       "      <td>27</td>\n",
       "      <td>Female</td>\n",
       "    </tr>\n",
       "  </tbody>\n",
       "</table>\n",
       "</div>"
      ],
      "text/plain": [
       "     Name  Age  Gender\n",
       "0   Alice   25  Female\n",
       "1     Bob   30    Male\n",
       "2  Claire   27  Female"
      ]
     },
     "execution_count": 19,
     "metadata": {},
     "output_type": "execute_result"
    }
   ],
   "source": [
    "df3"
   ]
  },
  {
   "cell_type": "markdown",
   "id": "3ed08291-b715-48fc-85d0-00c2e39ff848",
   "metadata": {},
   "source": [
    "**Explanation**:\n",
    "\n",
    "Creating Series:\n",
    "\n",
    "name_series contains names of individuals.\n",
    "age_series contains ages corresponding to each name.\n",
    "gender_series contains genders corresponding to each name.\n",
    "\n",
    "\n",
    "Creating the DataFrame:\n",
    "\n",
    "A dictionary data is created where keys are column names (Name, Age, Gender) and values are the corresponding Series.\n",
    "The DataFrame df is created using pd.DataFrame(data).\n",
    "\n",
    "\n",
    "Output:\n",
    "\n",
    "The resulting DataFrame has columns Name, Age, and Gender with each Series forming a column in the DataFrame."
   ]
  },
  {
   "cell_type": "code",
   "execution_count": null,
   "id": "6a99ac03-793f-48ea-b6eb-1d5beb6dfc9c",
   "metadata": {},
   "outputs": [],
   "source": []
  }
 ],
 "metadata": {
  "kernelspec": {
   "display_name": "Python 3 (ipykernel)",
   "language": "python",
   "name": "python3"
  },
  "language_info": {
   "codemirror_mode": {
    "name": "ipython",
    "version": 3
   },
   "file_extension": ".py",
   "mimetype": "text/x-python",
   "name": "python",
   "nbconvert_exporter": "python",
   "pygments_lexer": "ipython3",
   "version": "3.10.8"
  }
 },
 "nbformat": 4,
 "nbformat_minor": 5
}
